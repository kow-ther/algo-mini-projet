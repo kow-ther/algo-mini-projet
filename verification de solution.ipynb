{
 "cells": [
  {
   "cell_type": "code",
   "execution_count": 3,
   "id": "d4b5fb10-5684-40d6-9fb8-46777b55767a",
   "metadata": {},
   "outputs": [],
   "source": [
    "import math\n",
    "import random\n",
    "import pandas as ps"
   ]
  },
  {
   "cell_type": "markdown",
   "id": "3cd11a68-3e9b-4fab-97b0-6fc039ab9807",
   "metadata": {},
   "source": [
    "Vérifie si le chemin donné est une solution valide pour le TSP. \n",
    "\n",
    "    param graphe: Matrice d'adjacence représentant les distances entre les villes.\n",
    "    param chemin: Liste représentant l'ordre de visite des villes.\n",
    "    return: Booléen indiquant si le chemin est valide."
   ]
  },
  {
   "cell_type": "code",
   "execution_count": 16,
   "id": "0092b380-9e08-4471-8e1e-b7881e2ebd4e",
   "metadata": {},
   "outputs": [
    {
     "name": "stdout",
     "output_type": "stream",
     "text": [
      "True\n"
     ]
    }
   ],
   "source": [
    "def verifier_solution_TSP(graphe, chemin):\n",
    "    n = len(graphe)\n",
    "    if len(set(chemin)) != n or len(chemin) != n:\n",
    "        return False  # Vérifie que toutes les villes sont visitées une fois\n",
    "    distance_totale = 0\n",
    "    for i in range(len(chemin) - 1):\n",
    "        if graphe[chemin[i]][chemin[i+1]] == 0:  # Si une connexion n'existe pas\n",
    "            return False\n",
    "        distance_totale += graphe[chemin[i]][chemin[i+1]]\n",
    "    # Vérifie le retour à la ville de départ\n",
    "    if graphe[chemin[-1]][chemin[0]] == 0:\n",
    "        return False\n",
    "    distance_totale += graphe[chemin[-1]][chemin[0]]\n",
    "    return True\n",
    "\n",
    "# Exemple d'utilisation :\n",
    "graphe = [\n",
    "    [0, 10, 15, 20, 25, 30],  \n",
    "    [10, 0, 35, 25, 30, 5],   \n",
    "    [15, 35, 0, 30, 5, 20],   \n",
    "    [20, 25, 30, 0, 10, 15],  \n",
    "    [25, 30, 5, 10, 0, 10],   \n",
    "    [30, 5, 20, 15, 10, 0],   \n",
    "]\n",
    "chemin = [0, 1, 3, 2, 5, 4]  \n",
    "print(verifier_solution_TSP(graphe, chemin))  \n"
   ]
  },
  {
   "cell_type": "code",
   "execution_count": null,
   "id": "a7b8b7a4-73ff-4fb7-beb5-650c26186032",
   "metadata": {},
   "outputs": [],
   "source": []
  }
 ],
 "metadata": {
  "kernelspec": {
   "display_name": "Python 3 (ipykernel)",
   "language": "python",
   "name": "python3"
  },
  "language_info": {
   "codemirror_mode": {
    "name": "ipython",
    "version": 3
   },
   "file_extension": ".py",
   "mimetype": "text/x-python",
   "name": "python",
   "nbconvert_exporter": "python",
   "pygments_lexer": "ipython3",
   "version": "3.12.4"
  }
 },
 "nbformat": 4,
 "nbformat_minor": 5
}

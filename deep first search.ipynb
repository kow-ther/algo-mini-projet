{
 "cells": [
  {
   "cell_type": "code",
   "execution_count": 1,
   "id": "daa9ff57-2e97-4f31-9286-de580a5e17c2",
   "metadata": {},
   "outputs": [],
   "source": [
    "graph = [\n",
    "    [0, 10, 15, 20, 25, 30],  # A\n",
    "    [10, 0, 35, 25, 30, 5],   # B\n",
    "    [15, 35, 0, 30, 5, 20],   # C\n",
    "    [20, 25, 30, 0, 10, 15],  # D\n",
    "    [25, 30, 5, 10, 0, 10],   # E\n",
    "    [30, 5, 20, 15, 10, 0],   # F\n",
    "]"
   ]
  },
  {
   "cell_type": "code",
   "execution_count": 4,
   "id": "db43afb2-d0d5-485d-9c8d-63902bb3fac6",
   "metadata": {},
   "outputs": [],
   "source": [
    "def tsp_dfs(graph, start):\n",
    "    n = len(graph)\n",
    "    visited = [False] * n\n",
    "    min_cost = float('inf')\n",
    "    best_path = []\n",
    "\n",
    "    def dfs(city, count, cost, path):\n",
    "        nonlocal min_cost, best_path\n",
    "        # Si toutes les villes ont été visitées et qu'il existe un chemin retour\n",
    "        if count == n and graph[city][start] > 0:\n",
    "            total_cost = cost + graph[city][start]\n",
    "            if total_cost < min_cost:\n",
    "                min_cost = total_cost\n",
    "                best_path = path + [start]  \n",
    "            return\n",
    "\n",
    "        # Explorer les villes voisines\n",
    "        for next_city in range(n):\n",
    "            if not visited[next_city] and graph[city][next_city] > 0:\n",
    "                visited[next_city] = True\n",
    "                dfs(next_city, count + 1, cost + graph[city][next_city], path + [next_city])\n",
    "                visited[next_city] = False\n",
    "\n",
    "    # Initialiser la recherche à partir de la ville de départ\n",
    "    visited[start] = True\n",
    "    dfs(start, 1, 0, [start])\n",
    "\n",
    "    return min_cost, best_path\n"
   ]
  },
  {
   "cell_type": "code",
   "execution_count": 5,
   "id": "37396a95-f82f-4e72-8bca-6c9bdfb45c68",
   "metadata": {},
   "outputs": [
    {
     "name": "stdout",
     "output_type": "stream",
     "text": [
      "Coût minimal: 60\n",
      "Chemin optimal: [5, 1, 0, 2, 4, 3, 5]\n"
     ]
    }
   ],
   "source": [
    "start = 5\n",
    "\n",
    "cost , path = tsp_dfs(graph, start)\n",
    "\n",
    "print(\"Coût minimal:\", cost)\n",
    "print(\"Chemin optimal:\", path)"
   ]
  }
 ],
 "metadata": {
  "kernelspec": {
   "display_name": "Python 3 (ipykernel)",
   "language": "python",
   "name": "python3"
  },
  "language_info": {
   "codemirror_mode": {
    "name": "ipython",
    "version": 3
   },
   "file_extension": ".py",
   "mimetype": "text/x-python",
   "name": "python",
   "nbconvert_exporter": "python",
   "pygments_lexer": "ipython3",
   "version": "3.12.4"
  }
 },
 "nbformat": 4,
 "nbformat_minor": 5
}
